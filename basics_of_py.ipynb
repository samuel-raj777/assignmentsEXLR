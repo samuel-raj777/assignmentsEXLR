{
  "nbformat": 4,
  "nbformat_minor": 0,
  "metadata": {
    "colab": {
      "provenance": []
    },
    "kernelspec": {
      "name": "python3",
      "display_name": "Python 3"
    },
    "language_info": {
      "name": "python"
    }
  },
  "cells": [
    {
      "cell_type": "markdown",
      "source": [
        "Exercise 1 : Prime Numbers"
      ],
      "metadata": {
        "id": "Ml2Xj1yyejL2"
      }
    },
    {
      "cell_type": "code",
      "source": [
        "def is_prime(number):\n",
        "    if number <= 1:\n",
        "        return False\n",
        "    for i in range(2, int(number ** 0.5) + 1):\n",
        "        if number % i == 0:\n",
        "            return False\n",
        "    return True\n",
        "num = int(input(\"Enter a number: \"))\n",
        "if is_prime(num):\n",
        "    print(f\"{num} is a prime number.\")\n",
        "else:\n",
        "    print(f\"{num} is not a prime number.\")"
      ],
      "metadata": {
        "colab": {
          "base_uri": "https://localhost:8080/"
        },
        "id": "ZPTOrD3PhiBo",
        "outputId": "3b9f5b56-18ab-41eb-fefc-5c1150610e80"
      },
      "execution_count": 40,
      "outputs": [
        {
          "output_type": "stream",
          "name": "stdout",
          "text": [
            "Enter a number: 55\n",
            "55 is not a prime number.\n"
          ]
        }
      ]
    },
    {
      "cell_type": "markdown",
      "source": [
        "Exercise 2 : Product of two Random numbers"
      ],
      "metadata": {
        "id": "U3gFxKJshygX"
      }
    },
    {
      "cell_type": "code",
      "source": [
        "import random\n",
        "num1 = random.randint(1, 10)  # Generate random numbers between 1 and 10 (inclusive)\n",
        "num2 = random.randint(1, 10)\n",
        "print(f\"What is the product of {num1} and {num2}?\")\n",
        "user_answer = int(input(\"Your answer: \"))\n",
        "correct_answer = num1 * num2\n",
        "if user_answer == correct_answer:\n",
        "    print(\"Correct!\")\n",
        "else:\n",
        "    print(f\"Incorrect. The correct answer is {correct_answer}\")"
      ],
      "metadata": {
        "colab": {
          "base_uri": "https://localhost:8080/"
        },
        "id": "BwqbrSNzhuSl",
        "outputId": "eb7b7ed9-6b5f-4119-d190-0dc54ab2b442"
      },
      "execution_count": 42,
      "outputs": [
        {
          "output_type": "stream",
          "name": "stdout",
          "text": [
            "What is the product of 8 and 6?\n",
            "Your answer: 21\n",
            "Incorrect. The correct answer is 48\n"
          ]
        }
      ]
    },
    {
      "cell_type": "markdown",
      "source": [
        "Exercise 3 : Squares of Even/Odd numbers"
      ],
      "metadata": {
        "id": "qXCVvDsFiXZg"
      }
    },
    {
      "cell_type": "code",
      "source": [
        "def sqr_of_even_nums():\n",
        "    print(\"Squares of even numbers between 100 and 200:\")\n",
        "    for number in range(100, 201):\n",
        "        if number % 2 == 0:  # Check if the number is even\n",
        "            print(f\"{number}^2 = {number ** 2}\")\n",
        "sqr_of_even_nums() # Call the function to execute"
      ],
      "metadata": {
        "colab": {
          "base_uri": "https://localhost:8080/"
        },
        "id": "Kl8X3U6kiep6",
        "outputId": "842c73ae-426b-4ce1-9edf-0aca10189332"
      },
      "execution_count": 44,
      "outputs": [
        {
          "output_type": "stream",
          "name": "stdout",
          "text": [
            "Squares of even numbers between 100 and 200:\n",
            "100^2 = 10000\n",
            "102^2 = 10404\n",
            "104^2 = 10816\n",
            "106^2 = 11236\n",
            "108^2 = 11664\n",
            "110^2 = 12100\n",
            "112^2 = 12544\n",
            "114^2 = 12996\n",
            "116^2 = 13456\n",
            "118^2 = 13924\n",
            "120^2 = 14400\n",
            "122^2 = 14884\n",
            "124^2 = 15376\n",
            "126^2 = 15876\n",
            "128^2 = 16384\n",
            "130^2 = 16900\n",
            "132^2 = 17424\n",
            "134^2 = 17956\n",
            "136^2 = 18496\n",
            "138^2 = 19044\n",
            "140^2 = 19600\n",
            "142^2 = 20164\n",
            "144^2 = 20736\n",
            "146^2 = 21316\n",
            "148^2 = 21904\n",
            "150^2 = 22500\n",
            "152^2 = 23104\n",
            "154^2 = 23716\n",
            "156^2 = 24336\n",
            "158^2 = 24964\n",
            "160^2 = 25600\n",
            "162^2 = 26244\n",
            "164^2 = 26896\n",
            "166^2 = 27556\n",
            "168^2 = 28224\n",
            "170^2 = 28900\n",
            "172^2 = 29584\n",
            "174^2 = 30276\n",
            "176^2 = 30976\n",
            "178^2 = 31684\n",
            "180^2 = 32400\n",
            "182^2 = 33124\n",
            "184^2 = 33856\n",
            "186^2 = 34596\n",
            "188^2 = 35344\n",
            "190^2 = 36100\n",
            "192^2 = 36864\n",
            "194^2 = 37636\n",
            "196^2 = 38416\n",
            "198^2 = 39204\n",
            "200^2 = 40000\n"
          ]
        }
      ]
    },
    {
      "cell_type": "code",
      "source": [
        "def sqr_of_odd_nums():\n",
        "    print(\"Squares of odd numbers between 100 and 200:\")\n",
        "    for number in range(100, 201):\n",
        "        if number % 2 != 0:  # Check if the number is even\n",
        "            print(f\"{number}^2 = {number ** 2}\")\n",
        "sqr_of_odd_nums() # Call the function to execute"
      ],
      "metadata": {
        "colab": {
          "base_uri": "https://localhost:8080/"
        },
        "id": "wihwzWaljCke",
        "outputId": "cce62f08-f98d-4c4e-d84b-1f945b920142"
      },
      "execution_count": 45,
      "outputs": [
        {
          "output_type": "stream",
          "name": "stdout",
          "text": [
            "Squares of odd numbers between 100 and 200:\n",
            "101^2 = 10201\n",
            "103^2 = 10609\n",
            "105^2 = 11025\n",
            "107^2 = 11449\n",
            "109^2 = 11881\n",
            "111^2 = 12321\n",
            "113^2 = 12769\n",
            "115^2 = 13225\n",
            "117^2 = 13689\n",
            "119^2 = 14161\n",
            "121^2 = 14641\n",
            "123^2 = 15129\n",
            "125^2 = 15625\n",
            "127^2 = 16129\n",
            "129^2 = 16641\n",
            "131^2 = 17161\n",
            "133^2 = 17689\n",
            "135^2 = 18225\n",
            "137^2 = 18769\n",
            "139^2 = 19321\n",
            "141^2 = 19881\n",
            "143^2 = 20449\n",
            "145^2 = 21025\n",
            "147^2 = 21609\n",
            "149^2 = 22201\n",
            "151^2 = 22801\n",
            "153^2 = 23409\n",
            "155^2 = 24025\n",
            "157^2 = 24649\n",
            "159^2 = 25281\n",
            "161^2 = 25921\n",
            "163^2 = 26569\n",
            "165^2 = 27225\n",
            "167^2 = 27889\n",
            "169^2 = 28561\n",
            "171^2 = 29241\n",
            "173^2 = 29929\n",
            "175^2 = 30625\n",
            "177^2 = 31329\n",
            "179^2 = 32041\n",
            "181^2 = 32761\n",
            "183^2 = 33489\n",
            "185^2 = 34225\n",
            "187^2 = 34969\n",
            "189^2 = 35721\n",
            "191^2 = 36481\n",
            "193^2 = 37249\n",
            "195^2 = 38025\n",
            "197^2 = 38809\n",
            "199^2 = 39601\n"
          ]
        }
      ]
    },
    {
      "cell_type": "markdown",
      "source": [
        "Exercise 4 : Word counter"
      ],
      "metadata": {
        "id": "xN-GPJ-ijhn5"
      }
    },
    {
      "cell_type": "code",
      "source": [
        "from collections import Counter\n",
        "def count_words():\n",
        "    input_text = input(\"Enter the text: \")\n",
        "    words = input_text.split()\n",
        "    word_count = Counter(words)\n",
        "    for word, count in word_count.items():\n",
        "        print(f\"'{word}': {count}\")\n",
        "count_words()"
      ],
      "metadata": {
        "colab": {
          "base_uri": "https://localhost:8080/"
        },
        "id": "NXNzGNTrjq62",
        "outputId": "4fd1e817-105b-44e6-a92e-b0bf4e1ab4ac"
      },
      "execution_count": 50,
      "outputs": [
        {
          "output_type": "stream",
          "name": "stdout",
          "text": [
            "Enter the text: hello world \n",
            "'hello': 1\n",
            "'world': 1\n"
          ]
        }
      ]
    },
    {
      "cell_type": "markdown",
      "source": [
        "Exercise 5: Check for Palindrome"
      ],
      "metadata": {
        "id": "0HmoBGgHk7S-"
      }
    },
    {
      "cell_type": "code",
      "source": [
        "string=input((\"Enter a String:\"))\n",
        "if(string==string[::-1]):\n",
        "      print(\"True\")\n",
        "else:\n",
        "      print(\"False\")"
      ],
      "metadata": {
        "colab": {
          "base_uri": "https://localhost:8080/"
        },
        "id": "0lJGw5BClJkz",
        "outputId": "7caa00c6-3a5f-4df4-bf39-4e824f0b651c"
      },
      "execution_count": 55,
      "outputs": [
        {
          "output_type": "stream",
          "name": "stdout",
          "text": [
            "Enter a String:racecar\n",
            "True\n"
          ]
        }
      ]
    },
    {
      "cell_type": "code",
      "source": [],
      "metadata": {
        "id": "vkJrmjb3lamb"
      },
      "execution_count": null,
      "outputs": []
    }
  ]
}
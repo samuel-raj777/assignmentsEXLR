{
  "cells": [
    {
      "cell_type": "code",
      "source": [
        "import numpy as np\n",
        "import scipy.stats as stats"
      ],
      "metadata": {
        "id": "Z_22uBXld3_X"
      },
      "id": "Z_22uBXld3_X",
      "execution_count": 2,
      "outputs": []
    },
    {
      "cell_type": "markdown",
      "source": [
        "Chisquare Test"
      ],
      "metadata": {
        "id": "MpdGlpPFjPRm"
      },
      "id": "MpdGlpPFjPRm"
    },
    {
      "cell_type": "code",
      "source": [
        "# State the Hypotheses\n",
        "  # Null Hypothesis (H0): There is no association between device type and customer satisfaction level.\n",
        "  # Alternative Hypothesis (H1): There is an association between device type and customer satisfaction level.\n",
        "\n",
        "# Data Provided (Contingency Table)\n",
        "given_data = np.array([\n",
        "    [50, 70],  # Very Satisfied\n",
        "    [80, 100],  # Satisfied\n",
        "    [60, 90],   # Neutral\n",
        "    [30, 50],   # Unsatisfied\n",
        "    [20, 50]    # Very Unsatisfied\n",
        "])\n",
        "\n",
        "# Compute the Chi-Square Statistic\n",
        "chi2, p, dof, expected = stats.chi2_contingency(given_data)\n",
        "\n",
        "# Determine the Critical Value\n",
        "alpha = 0.05\n",
        "critical_value = stats.chi2.ppf(1 - alpha, dof)\n",
        "\n",
        "# Make a Decision\n",
        "if chi2 > critical_value:\n",
        "    decision = \"Reject Null Hypothesis\"\n",
        "else:\n",
        "    decision = \"Fail to Reject Null Hypothesis\"\n",
        "\n",
        "# Results\n",
        "print(\"Chi-square statistic:\", chi2)\n",
        "print(\"P-value:\", p)\n",
        "print(\"Degrees of freedom:\", dof)\n",
        "print(\"Expected frequencies:\", expected)\n",
        "print(\"Decision:\", decision)"
      ],
      "metadata": {
        "colab": {
          "base_uri": "https://localhost:8080/"
        },
        "id": "AAQgV9WheKey",
        "outputId": "d65a2ce4-98d5-40d9-b228-45dbdb294901"
      },
      "id": "AAQgV9WheKey",
      "execution_count": 8,
      "outputs": [
        {
          "output_type": "stream",
          "name": "stdout",
          "text": [
            "Chi-square statistic: 5.638227513227513\n",
            "P-value: 0.22784371130697179\n",
            "Degrees of freedom: 4\n",
            "Expected frequencies: [[ 48.  72.]\n",
            " [ 72. 108.]\n",
            " [ 60.  90.]\n",
            " [ 32.  48.]\n",
            " [ 28.  42.]]\n",
            "Decision: Fail to Reject Null Hypothesis\n"
          ]
        }
      ]
    },
    {
      "cell_type": "markdown",
      "source": [
        "Hypothesis Testing"
      ],
      "metadata": {
        "id": "ITGoCesYjart"
      },
      "id": "ITGoCesYjart"
    },
    {
      "cell_type": "code",
      "source": [
        "# Hypotheses\n",
        "# H0: The weekly operating cost model is accurate.\n",
        "# H1: The weekly operating cost model is not accurate.\n",
        "\n",
        "# Data\n",
        "sample_mean = 3050\n",
        "population_mean = 1000 + (5 * 600)\n",
        "population_std = 5 * 25\n",
        "sample_size = 25\n",
        "\n",
        "# Test Statistic\n",
        "standard_error = population_std / np.sqrt(sample_size)\n",
        "test_statistic = (sample_mean - population_mean) / standard_error\n",
        "\n",
        "# Critical Value\n",
        "alpha = 0.05\n",
        "critical_value_ht = stats.norm.ppf(1 - alpha)\n",
        "\n",
        "# Decision\n",
        "decision_ht = \"Reject Null Hypothesis\" if test_statistic > critical_value_ht else \"Fail to Reject Null Hypothesis\"\n",
        "\n",
        "# Results\n",
        "print(\"Hypothesis Test Results:\")\n",
        "print(\"Test Statistic:\", test_statistic)\n",
        "print(\"Critical Value:\", critical_value_ht)\n",
        "print(\"Decision:\", decision_ht)\n"
      ],
      "metadata": {
        "colab": {
          "base_uri": "https://localhost:8080/"
        },
        "id": "uFQCsu2of17x",
        "outputId": "dc10fcba-b56b-4d34-b817-adfca172dad1"
      },
      "id": "uFQCsu2of17x",
      "execution_count": 11,
      "outputs": [
        {
          "output_type": "stream",
          "name": "stdout",
          "text": [
            "Hypothesis Test Results:\n",
            "Test Statistic: -38.0\n",
            "Critical Value: 1.6448536269514722\n",
            "Decision: Fail to Reject Null Hypothesis\n"
          ]
        }
      ]
    },
    {
      "cell_type": "code",
      "source": [],
      "metadata": {
        "id": "23tzsw6Cj5hE"
      },
      "id": "23tzsw6Cj5hE",
      "execution_count": null,
      "outputs": []
    }
  ],
  "metadata": {
    "colab": {
      "provenance": []
    },
    "language_info": {
      "name": "python"
    },
    "kernelspec": {
      "name": "python3",
      "display_name": "Python 3"
    }
  },
  "nbformat": 4,
  "nbformat_minor": 5
}
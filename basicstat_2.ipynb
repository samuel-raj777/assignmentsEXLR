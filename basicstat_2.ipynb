{
  "nbformat": 4,
  "nbformat_minor": 0,
  "metadata": {
    "colab": {
      "provenance": []
    },
    "kernelspec": {
      "name": "python3",
      "display_name": "Python 3"
    },
    "language_info": {
      "name": "python"
    }
  },
  "cells": [
    {
      "cell_type": "code",
      "execution_count": 29,
      "metadata": {
        "id": "HjYo9Ny-an46"
      },
      "outputs": [],
      "source": [
        "import numpy as np\n",
        "from scipy import stats"
      ]
    },
    {
      "cell_type": "code",
      "source": [
        "data = np.array([1.13, 1.55, 1.43, 0.92, 1.25, 1.36, 1.32, 0.85, 1.07, 1.48, 1.20, 1.33, 1.18, 1.22, 1.29])"
      ],
      "metadata": {
        "id": "i8Ml9yyXapD0"
      },
      "execution_count": 30,
      "outputs": []
    },
    {
      "cell_type": "code",
      "source": [
        "data"
      ],
      "metadata": {
        "id": "NIvhYQGja3h-",
        "colab": {
          "base_uri": "https://localhost:8080/"
        },
        "outputId": "101a2d90-af9b-4744-a3bb-b35bcba9e8db"
      },
      "execution_count": 31,
      "outputs": [
        {
          "output_type": "execute_result",
          "data": {
            "text/plain": [
              "array([1.13, 1.55, 1.43, 0.92, 1.25, 1.36, 1.32, 0.85, 1.07, 1.48, 1.2 ,\n",
              "       1.33, 1.18, 1.22, 1.29])"
            ]
          },
          "metadata": {},
          "execution_count": 31
        }
      ]
    },
    {
      "cell_type": "code",
      "source": [
        "data.mean()"
      ],
      "metadata": {
        "colab": {
          "base_uri": "https://localhost:8080/"
        },
        "id": "xH3mcyQrOTaK",
        "outputId": "037a89a9-7c00-4fd6-fd93-74c9cccb93d7"
      },
      "execution_count": 32,
      "outputs": [
        {
          "output_type": "execute_result",
          "data": {
            "text/plain": [
              "1.2386666666666666"
            ]
          },
          "metadata": {},
          "execution_count": 32
        }
      ]
    },
    {
      "cell_type": "code",
      "source": [
        "data.std()"
      ],
      "metadata": {
        "colab": {
          "base_uri": "https://localhost:8080/"
        },
        "id": "v8eEodHLOX5z",
        "outputId": "55bacf99-c4a7-4e5b-da42-2333311490ae"
      },
      "execution_count": 33,
      "outputs": [
        {
          "output_type": "execute_result",
          "data": {
            "text/plain": [
              "0.18661427836285438"
            ]
          },
          "metadata": {},
          "execution_count": 33
        }
      ]
    },
    {
      "cell_type": "markdown",
      "source": [
        "Task [ a ]\n"
      ],
      "metadata": {
        "id": "LtyQG3r7W6n3"
      }
    },
    {
      "cell_type": "code",
      "source": [
        "n = len(data)\n",
        "sample_mean = data.mean()\n",
        "sample_std = data.std(ddof=1)  # Sample standard deviation\n",
        "\n",
        "# Compute the t-critical value\n",
        "alpha = 0.01  # For a 99% confidence level\n",
        "t_critical = stats.t.ppf(1 - alpha/2, df=n-1)\n",
        "\n",
        "# Compute the standard error\n",
        "standard_error = sample_std / np.sqrt(n)\n",
        "\n",
        "# Confidence interval\n",
        "lower_bound = sample_mean - t_critical * standard_error\n",
        "upper_bound = sample_mean + t_critical * standard_error\n",
        "(lower_bound, upper_bound)\n"
      ],
      "metadata": {
        "colab": {
          "base_uri": "https://localhost:8080/"
        },
        "id": "pR5vMDUdXUyo",
        "outputId": "254d03eb-227f-4cc5-cb0f-ffbcc314ba03"
      },
      "execution_count": 38,
      "outputs": [
        {
          "output_type": "execute_result",
          "data": {
            "text/plain": [
              "(1.0901973384384906, 1.3871359948948425)"
            ]
          },
          "metadata": {},
          "execution_count": 38
        }
      ]
    },
    {
      "cell_type": "markdown",
      "source": [
        "Task [ b ]"
      ],
      "metadata": {
        "id": "rnNbb1Z_Ylms"
      }
    },
    {
      "cell_type": "code",
      "source": [
        "# Given Population std\n",
        "population_std = 0.2\n",
        "\n",
        "# Compute the z-critical value\n",
        "z_critical = stats.norm.ppf(1 - alpha/2)\n",
        "\n",
        "# Compute the standard error\n",
        "standard_error = population_std / np.sqrt(n)\n",
        "\n",
        "# Confidence interval\n",
        "lower_bound = sample_mean - z_critical * standard_error\n",
        "upper_bound = sample_mean + z_critical * standard_error\n",
        "(lower_bound, upper_bound)"
      ],
      "metadata": {
        "colab": {
          "base_uri": "https://localhost:8080/"
        },
        "id": "xWhq5C51YqMU",
        "outputId": "802c0288-221f-40ff-b08c-ca237ea511bb"
      },
      "execution_count": 37,
      "outputs": [
        {
          "output_type": "execute_result",
          "data": {
            "text/plain": [
              "(1.1056514133957607, 1.3716819199375725)"
            ]
          },
          "metadata": {},
          "execution_count": 37
        }
      ]
    },
    {
      "cell_type": "code",
      "source": [],
      "metadata": {
        "id": "lNXt7pSfZSuR"
      },
      "execution_count": null,
      "outputs": []
    }
  ]
}